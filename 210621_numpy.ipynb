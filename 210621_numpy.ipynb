{
  "nbformat": 4,
  "nbformat_minor": 0,
  "metadata": {
    "colab": {
      "name": "실습1.ipynb",
      "provenance": [],
      "collapsed_sections": []
    },
    "kernelspec": {
      "name": "python3",
      "display_name": "Python 3"
    },
    "language_info": {
      "name": "python"
    }
  },
  "cells": [
    {
      "cell_type": "code",
      "metadata": {
        "id": "Yef_LXiyRdlu"
      },
      "source": [
        "import numpy as np"
      ],
      "execution_count": 11,
      "outputs": []
    },
    {
      "cell_type": "code",
      "metadata": {
        "colab": {
          "base_uri": "https://localhost:8080/"
        },
        "id": "osiea3aiRq5K",
        "outputId": "1b0c6ff8-5f79-4859-e82d-f9e3de672340"
      },
      "source": [
        "sd_list = [\n",
        "            [0, 0, 0],\n",
        "            [1, 1, 1]\n",
        "           ]\n",
        "\n",
        "td_list = [[[0, 100, 0],[100, 1, 1]],[[10, 100, 10.1],[110, 11, 11]],[[20, 20, 20],[21, 21, 21]]]\n",
        "\n",
        "fd_nd_array = np.array([0, 0, 0])\n",
        "sd_nd_array = np.array(sd_list)\n",
        "td_nd_array = np.array(td_list)\n",
        "\n",
        "print(fd_nd_array)\n",
        "print(\"\\n\")\n",
        "print(sd_nd_array)\n",
        "print(\"\\n\")\n",
        "print(td_nd_array)\n",
        "print(np.sort(td_nd_array))"
      ],
      "execution_count": 12,
      "outputs": [
        {
          "output_type": "stream",
          "text": [
            "[0 0 0]\n",
            "\n",
            "\n",
            "[[0 0 0]\n",
            " [1 1 1]]\n",
            "\n",
            "\n",
            "[[[  0.  100.    0. ]\n",
            "  [100.    1.    1. ]]\n",
            "\n",
            " [[ 10.  100.   10.1]\n",
            "  [110.   11.   11. ]]\n",
            "\n",
            " [[ 20.   20.   20. ]\n",
            "  [ 21.   21.   21. ]]]\n",
            "[[[  0.    0.  100. ]\n",
            "  [  1.    1.  100. ]]\n",
            "\n",
            " [[ 10.   10.1 100. ]\n",
            "  [ 11.   11.  110. ]]\n",
            "\n",
            " [[ 20.   20.   20. ]\n",
            "  [ 21.   21.   21. ]]]\n"
          ],
          "name": "stdout"
        }
      ]
    },
    {
      "cell_type": "code",
      "metadata": {
        "colab": {
          "base_uri": "https://localhost:8080/"
        },
        "id": "uY0Ub1TVXoRA",
        "outputId": "d0b8dab8-28b9-4cd1-e12a-199723ee16f4"
      },
      "source": [
        "zero_td_array = np.zeros((3,2,3))\n",
        "print(zero_td_array)\n",
        "\n",
        "zero_td_array = np.ones((3,2,3))\n",
        "print(zero_td_array)"
      ],
      "execution_count": 13,
      "outputs": [
        {
          "output_type": "stream",
          "text": [
            "[[[0. 0. 0.]\n",
            "  [0. 0. 0.]]\n",
            "\n",
            " [[0. 0. 0.]\n",
            "  [0. 0. 0.]]\n",
            "\n",
            " [[0. 0. 0.]\n",
            "  [0. 0. 0.]]]\n",
            "[[[1. 1. 1.]\n",
            "  [1. 1. 1.]]\n",
            "\n",
            " [[1. 1. 1.]\n",
            "  [1. 1. 1.]]\n",
            "\n",
            " [[1. 1. 1.]\n",
            "  [1. 1. 1.]]]\n"
          ],
          "name": "stdout"
        }
      ]
    },
    {
      "cell_type": "code",
      "metadata": {
        "colab": {
          "base_uri": "https://localhost:8080/"
        },
        "id": "jU9MFmEAgC6B",
        "outputId": "bc46e340-858a-4435-dd64-ad1ec39f472d"
      },
      "source": [
        "empty_array = np.empty((2,3))\n",
        "print(empty_array)"
      ],
      "execution_count": 14,
      "outputs": [
        {
          "output_type": "stream",
          "text": [
            "[[0.e+000 0.e+000 0.e+000]\n",
            " [5.e-324 5.e-324 5.e-324]]\n"
          ],
          "name": "stdout"
        }
      ]
    },
    {
      "cell_type": "code",
      "metadata": {
        "id": "nBFGTYaZhnMG",
        "colab": {
          "base_uri": "https://localhost:8080/"
        },
        "outputId": "15ee8926-158b-4623-bc36-c21aefb16d09"
      },
      "source": [
        "# print(list(range(10)))\n",
        "# print(list(range(10,0,-1)))\n",
        "# print(list(range(2,10)))\n",
        "\n",
        "print(np.arange(10))\n",
        "print(np.arange(2,10))\n",
        "print(np.arange(10,0,-0.5))"
      ],
      "execution_count": 15,
      "outputs": [
        {
          "output_type": "stream",
          "text": [
            "[0 1 2 3 4 5 6 7 8 9]\n",
            "[2 3 4 5 6 7 8 9]\n",
            "[10.   9.5  9.   8.5  8.   7.5  7.   6.5  6.   5.5  5.   4.5  4.   3.5\n",
            "  3.   2.5  2.   1.5  1.   0.5]\n"
          ],
          "name": "stdout"
        }
      ]
    },
    {
      "cell_type": "code",
      "metadata": {
        "id": "dNn-SiCoi8mE",
        "colab": {
          "base_uri": "https://localhost:8080/"
        },
        "outputId": "cb0c23e3-28d9-451c-8b18-bca058aac389"
      },
      "source": [
        "print(np.linspace(10, 20, num=3))"
      ],
      "execution_count": 16,
      "outputs": [
        {
          "output_type": "stream",
          "text": [
            "[10. 15. 20.]\n"
          ],
          "name": "stdout"
        }
      ]
    },
    {
      "cell_type": "code",
      "metadata": {
        "colab": {
          "base_uri": "https://localhost:8080/"
        },
        "id": "tbOCu_PakfRm",
        "outputId": "37bb15f9-43bd-4b50-c83e-e5b07a2d53ae"
      },
      "source": [
        "original_num_list = [[2,1,5],[3,20,1],[5,8,9]]\n",
        "\n",
        "before_sorted_array = np.array(original_num_list)\n",
        "\n",
        "# print(original_num_list)\n",
        "# print(sorted(original_num_list))\n",
        "\n",
        "# original_num_list.sort()\n",
        "# print(original_num_list)\n",
        "\n",
        "print(before_sorted_array)\n",
        "print()\n",
        "before_sorted_array = np.sort(before_sorted_array, axis=0)\n",
        "before_sorted_array = np.sort(before_sorted_array, axis=1)\n",
        "# print(np.sort(before_sorted_array))\n",
        "print(before_sorted_array)\n",
        "\n"
      ],
      "execution_count": 17,
      "outputs": [
        {
          "output_type": "stream",
          "text": [
            "[[ 2  1  5]\n",
            " [ 3 20  1]\n",
            " [ 5  8  9]]\n",
            "\n",
            "[[ 1  1  2]\n",
            " [ 3  5  8]\n",
            " [ 5  9 20]]\n"
          ],
          "name": "stdout"
        }
      ]
    },
    {
      "cell_type": "code",
      "metadata": {
        "colab": {
          "base_uri": "https://localhost:8080/"
        },
        "id": "BqizrYo_qyn0",
        "outputId": "ae495a41-94b8-4a08-d8d5-45de167c5ecc"
      },
      "source": [
        "list_1 = [2,1,5]\n",
        "list_2 = [3,20,1]\n",
        "\n",
        "np_array_1 = np.array(list_1)\n",
        "np_array_2 = np.array(list_2)\n",
        "\n",
        "np_array_3 = np.array([[1,2],[3,4]])\n",
        "np_array_4 = np.array([[4,6,10,20], [1,2,3,4]])\n",
        "\n",
        "# print(list_1 + list_2)\n",
        "# print(np_array_1 + np_array_2)\n",
        "# print(np.concatenate((np_array_1, np_array_2)))\n",
        "print(np_array_3)\n",
        "print()\n",
        "print(np_array_4)\n",
        "print()\n",
        "print(np.concatenate((np_array_3, np_array_4), axis=1))\n"
      ],
      "execution_count": 18,
      "outputs": [
        {
          "output_type": "stream",
          "text": [
            "[[1 2]\n",
            " [3 4]]\n",
            "\n",
            "[[ 4  6 10 20]\n",
            " [ 1  2  3  4]]\n",
            "\n",
            "[[ 1  2  4  6 10 20]\n",
            " [ 3  4  1  2  3  4]]\n"
          ],
          "name": "stdout"
        }
      ]
    },
    {
      "cell_type": "code",
      "metadata": {
        "colab": {
          "base_uri": "https://localhost:8080/"
        },
        "id": "GiR1a1vSuKyl",
        "outputId": "9ff29292-8098-4675-a878-4ce17a821d91"
      },
      "source": [
        "before_delete_array = np.array([[4,6,10,20], [1,2,3,4], [5,6,7,8]])\n",
        "print(before_delete_array)\n",
        "print()\n",
        "print(np.delete(before_delete_array, [0, 2], None))\n",
        "print()\n",
        "print(before_delete_array.ndim)\n",
        "print(before_delete_array.size)\n",
        "print(before_delete_array.shape)"
      ],
      "execution_count": 19,
      "outputs": [
        {
          "output_type": "stream",
          "text": [
            "[[ 4  6 10 20]\n",
            " [ 1  2  3  4]\n",
            " [ 5  6  7  8]]\n",
            "\n",
            "[ 6 20  1  2  3  4  5  6  7  8]\n",
            "\n",
            "2\n",
            "12\n",
            "(3, 4)\n"
          ],
          "name": "stdout"
        }
      ]
    },
    {
      "cell_type": "code",
      "metadata": {
        "colab": {
          "base_uri": "https://localhost:8080/"
        },
        "id": "00A3AEqyxSNR",
        "outputId": "a3a9162f-4e3d-4555-c475-5a98e493b0e4"
      },
      "source": [
        "new_array = np.arange(8)\n",
        "print(new_array)\n",
        "print()\n",
        "print(new_array.reshape(2, 4))\n",
        "print()\n",
        "print(np.reshape(new_array, (2, 4)))\n",
        "print()\n",
        "print(new_array)"
      ],
      "execution_count": 20,
      "outputs": [
        {
          "output_type": "stream",
          "text": [
            "[0 1 2 3 4 5 6 7]\n",
            "\n",
            "[[0 1 2 3]\n",
            " [4 5 6 7]]\n",
            "\n",
            "[[0 1 2 3]\n",
            " [4 5 6 7]]\n",
            "\n",
            "[0 1 2 3 4 5 6 7]\n"
          ],
          "name": "stdout"
        }
      ]
    },
    {
      "cell_type": "code",
      "metadata": {
        "colab": {
          "base_uri": "https://localhost:8080/"
        },
        "id": "1lLiJ6To4bxR",
        "outputId": "ccd07a39-e556-4544-a9e0-3e9724b40531"
      },
      "source": [
        "# test_list = [1,2,4,5,6,20,7,3]\n",
        "# print(test_list[6])\n",
        "# print(test_list[2:5])\n",
        "# print(test_list[2:])\n",
        "# print(test_list[:5])\n",
        "# print(test_list[:])\n",
        "\n",
        "test_list_2d = [[1,2,4,5],[6,20,7,3]]\n",
        "# print(test_list_2d)\n",
        "# print(test_list_2d[1][2])\n",
        "# print()\n",
        "nd_array_2d = np.array(test_list_2d)\n",
        "# print(nd_array_2d)\n",
        "# print(nd_array_2d[1][2])\n",
        "# print(nd_array_2d[1, 2])\n",
        "# print(nd_array_2d[1, -1])\n",
        "# print(nd_array_2d[1])\n",
        "\n",
        "big_array_2d = np.arange(40).reshape(5,8)\n",
        "print(big_array_2d)\n",
        "# print(big_array_2d[3, 4])\n",
        "# print(big_array_2d[:, 4:])\n",
        "\n",
        "filtered_a = (big_array_2d % 5 == 0) & (big_array_2d >= 10)\n",
        "\n",
        "print(big_array_2d[filtered_a])\n",
        "\n",
        "# fancy indexing"
      ],
      "execution_count": 22,
      "outputs": [
        {
          "output_type": "stream",
          "text": [
            "[[ 0  1  2  3  4  5  6  7]\n",
            " [ 8  9 10 11 12 13 14 15]\n",
            " [16 17 18 19 20 21 22 23]\n",
            " [24 25 26 27 28 29 30 31]\n",
            " [32 33 34 35 36 37 38 39]]\n",
            "[10 15 20 25 30 35]\n"
          ],
          "name": "stdout"
        }
      ]
    },
    {
      "cell_type": "code",
      "metadata": {
        "colab": {
          "base_uri": "https://localhost:8080/"
        },
        "id": "d8C3_RhtbR2K",
        "outputId": "944ee53e-8e9d-4ac4-ccf0-a1f9dce11e55"
      },
      "source": [
        "fancy_indexed_1 = big_array_2d > 10\n",
        "fancy_indexed_2 = big_array_2d % 2 == 1\n",
        "\n",
        "print(big_array_2d[fancy_indexed_1])\n",
        "print(big_array_2d[fancy_indexed_2].reshape(5,4))\n"
      ],
      "execution_count": 27,
      "outputs": [
        {
          "output_type": "stream",
          "text": [
            "[11 12 13 14 15 16 17 18 19 20 21 22 23 24 25 26 27 28 29 30 31 32 33 34\n",
            " 35 36 37 38 39]\n",
            "[[ 1  3  5  7]\n",
            " [ 9 11 13 15]\n",
            " [17 19 21 23]\n",
            " [25 27 29 31]\n",
            " [33 35 37 39]]\n"
          ],
          "name": "stdout"
        }
      ]
    },
    {
      "cell_type": "code",
      "metadata": {
        "id": "hq1t6gJQbSXO"
      },
      "source": [
        ""
      ],
      "execution_count": null,
      "outputs": []
    }
  ]
}