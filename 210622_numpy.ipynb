{
  "nbformat": 4,
  "nbformat_minor": 0,
  "metadata": {
    "colab": {
      "name": "실습2.ipynb",
      "provenance": []
    },
    "kernelspec": {
      "name": "python3",
      "display_name": "Python 3"
    },
    "language_info": {
      "name": "python"
    }
  },
  "cells": [
    {
      "cell_type": "code",
      "metadata": {
        "colab": {
          "base_uri": "https://localhost:8080/"
        },
        "id": "fBeeDxpoZ9RL",
        "outputId": "63f828a2-b943-4d37-e638-46cda60c30f9"
      },
      "source": [
        "import numpy as np\n",
        "\n",
        "ndarray_1d = np.array([1,2,3,4,5,6,7,8])\n",
        "\n",
        "# print(ndarray_1d.reshape(1,8).shape)\n",
        "\n",
        "# print(ndarray_1d)\n",
        "# print(ndarray_1d.ndim)\n",
        "# print(ndarray_1d.size)\n",
        "# print(ndarray_1d.shape)\n",
        "\n",
        "ndarray_2d = ndarray_1d[np.newaxis, :]\n",
        "ndarray_2d = ndarray_1d[:, np.newaxis]\n",
        "\n",
        "print(ndarray_2d)\n",
        "print(ndarray_2d + ndarray_1d)\n",
        "\n",
        "# print(ndarray_2d)\n",
        "# print(ndarray_2d.ndim)\n",
        "# print(ndarray_2d.size)\n",
        "# print(ndarray_2d.shape)\n",
        "\n",
        "ndarray_2d_sample = np.array([[1,2,3],[4,5,6]])\n",
        "print()\n",
        "\n",
        "# print(ndarray_2d_sample.ndim)\n",
        "# print(ndarray_2d_sample.size)\n",
        "# print(ndarray_2d_sample.shape)\n",
        "\n",
        "ndarray_3d = ndarray_2d_sample[:, np.newaxis, :] * ndarray_2d_sample\n",
        "# print(ndarray_2d_sample[:, np.newaxis, :])\n",
        "# print(ndarray_3d)\n",
        "# print()\n",
        "\n",
        "# print(ndarray_3d.ndim)\n",
        "# print(ndarray_3d.size)\n",
        "# print(ndarray_3d.shape)\n",
        "\n",
        "# print(ndarray_3d[:, :, :, np.newaxis])\n",
        "\n",
        "# expanded_ndarray = np.expand_dims(ndarray_2d_sample, axis=(0,-1))\n",
        "# print(expanded_ndarray.ndim)\n",
        "# print(expanded_ndarray.size)\n",
        "# print(expanded_ndarray.shape)\n",
        "\n",
        "# print(np.expand_dims(ndarray_2d_sample, axis=(0,3,4)))"
      ],
      "execution_count": 35,
      "outputs": [
        {
          "output_type": "stream",
          "text": [
            "[[1]\n",
            " [2]\n",
            " [3]\n",
            " [4]\n",
            " [5]\n",
            " [6]\n",
            " [7]\n",
            " [8]]\n",
            "[[ 2  3  4  5  6  7  8  9]\n",
            " [ 3  4  5  6  7  8  9 10]\n",
            " [ 4  5  6  7  8  9 10 11]\n",
            " [ 5  6  7  8  9 10 11 12]\n",
            " [ 6  7  8  9 10 11 12 13]\n",
            " [ 7  8  9 10 11 12 13 14]\n",
            " [ 8  9 10 11 12 13 14 15]\n",
            " [ 9 10 11 12 13 14 15 16]]\n",
            "\n"
          ],
          "name": "stdout"
        }
      ]
    },
    {
      "cell_type": "code",
      "metadata": {
        "colab": {
          "base_uri": "https://localhost:8080/"
        },
        "id": "cAznWyJFcVCg",
        "outputId": "820e6007-dc6d-4af4-a5c7-9953326651bd"
      },
      "source": [
        "array_2d = np.arange(36).reshape(6,6)\n",
        "# print(array_2d)\n",
        "# print()\n",
        "\n",
        "array_1, array_2, array_3 = np.vsplit(array_2d, 3)\n",
        "\n",
        "# for splitted_array in np.vsplit(array_2d, 3):\n",
        "#   print(splitted_array)\n",
        "\n",
        "# for splitted_array in np.vsplit(array_2d, (0, 2, 3, 5)):\n",
        "#   print(splitted_array)\n",
        "\n",
        "# for sp_ar in np.hsplit(array_2d, (1,5)):\n",
        "#   print(sp_ar)\n",
        "\n",
        "splitted_array1 = np.array([[1,2],[3,4]])\n",
        "splitted_array2 = np.array([[10,20],[30,40]])\n",
        "\n",
        "print(splitted_array1)\n",
        "print(splitted_array2)\n",
        "print()\n",
        "print(np.vstack((splitted_array2, splitted_array1)))\n",
        "# print(np.hstack((splitted_array2, splitted_array1)))"
      ],
      "execution_count": 62,
      "outputs": [
        {
          "output_type": "stream",
          "text": [
            "[[1 2]\n",
            " [3 4]]\n",
            "[[10 20]\n",
            " [30 40]]\n",
            "\n",
            "[[10 20]\n",
            " [30 40]\n",
            " [ 1  2]\n",
            " [ 3  4]]\n"
          ],
          "name": "stdout"
        }
      ]
    },
    {
      "cell_type": "code",
      "metadata": {
        "colab": {
          "base_uri": "https://localhost:8080/"
        },
        "id": "C5_5-GYZnXpZ",
        "outputId": "d6b22b98-a50e-48ae-a318-ea6ecc33a80b"
      },
      "source": [
        "splitted_array2 = np.array([[10,20],[30,40]])\n",
        "\n",
        "# copied_array = splitted_array2\n",
        "copied_array = splitted_array2.copy()\n",
        "\n",
        "print(copied_array)\n",
        "print(splitted_array2)\n",
        "\n",
        "splitted_array2[0] = 0\n",
        "# print(copied_array is splitted_array2)\n",
        "\n",
        "print(copied_array)\n",
        "print(splitted_array2)\n",
        "\n",
        "print(id(copied_array))\n",
        "print(id(splitted_array2))"
      ],
      "execution_count": 75,
      "outputs": [
        {
          "output_type": "stream",
          "text": [
            "[[10 20]\n",
            " [30 40]]\n",
            "[[10 20]\n",
            " [30 40]]\n",
            "[[10 20]\n",
            " [30 40]]\n",
            "[[ 0  0]\n",
            " [30 40]]\n",
            "140489186978352\n",
            "140489186653488\n"
          ],
          "name": "stdout"
        }
      ]
    },
    {
      "cell_type": "code",
      "metadata": {
        "colab": {
          "base_uri": "https://localhost:8080/"
        },
        "id": "ikHIEQ_sq8L9",
        "outputId": "bd3baa32-733e-4d9f-c03f-23c84f6b237b"
      },
      "source": [
        "import copy\n",
        "\n",
        "test_a = 10\n",
        "test_b = test_a\n",
        "\n",
        "print(test_a)\n",
        "# print(test_b)\n",
        "print(id(test_a))\n",
        "\n",
        "test_a += 1\n",
        "\n",
        "print(test_a)\n",
        "# print(test_b)\n",
        "# print(test_a is test_b)\n",
        "print(id(test_a))\n",
        "# print(id(test_b))\n",
        "\n",
        "list_a = [1,2,3]\n",
        "list_b = list_a.copy()\n",
        "\n",
        "print(list_a)\n",
        "print(id(list_a))\n",
        "\n",
        "list_a[1] = 20\n",
        "\n",
        "print(list_a)\n",
        "print(list_b)\n",
        "print(id(list_a))\n",
        "print(id(list_b))\n",
        "\n",
        "user_info = [{\"name\":\"sam\", \"nickname\":\"sam110\"}, {\"name\":\"amy\", \"nickname\":\"am001\"}]\n",
        "copied_user_info = copy.deepcopy(user_info)\n",
        "\n",
        "print(user_info)\n",
        "print(copied_user_info)\n",
        "\n",
        "user_info[1][\"nickname\"] = \"changednickname\"\n",
        "\n",
        "print(user_info)\n",
        "print(copied_user_info)"
      ],
      "execution_count": 87,
      "outputs": [
        {
          "output_type": "stream",
          "text": [
            "10\n",
            "94250058804000\n",
            "11\n",
            "94250058804032\n",
            "[1, 2, 3]\n",
            "140489185658672\n",
            "[1, 20, 3]\n",
            "[1, 2, 3]\n",
            "140489185658672\n",
            "140489185658832\n",
            "[{'name': 'sam', 'nickname': 'sam110'}, {'name': 'amy', 'nickname': 'am001'}]\n",
            "[{'name': 'sam', 'nickname': 'sam110'}, {'name': 'amy', 'nickname': 'am001'}]\n",
            "[{'name': 'sam', 'nickname': 'sam110'}, {'name': 'amy', 'nickname': 'changednickname'}]\n",
            "[{'name': 'sam', 'nickname': 'sam110'}, {'name': 'amy', 'nickname': 'am001'}]\n"
          ],
          "name": "stdout"
        }
      ]
    },
    {
      "cell_type": "code",
      "metadata": {
        "colab": {
          "base_uri": "https://localhost:8080/"
        },
        "id": "kyRzu7J0uIJY",
        "outputId": "b8bcac54-b3dd-4c75-af3c-152b68a387ea"
      },
      "source": [
        "print(3 + 10)\n",
        "print(\"abc\" + \"100\")\n",
        "print([1,2,3] + [10,11,12])\n",
        "print(np.array([1,2,3]) * np.array([10,11,12]))"
      ],
      "execution_count": 92,
      "outputs": [
        {
          "output_type": "stream",
          "text": [
            "13\n",
            "abc100\n",
            "[1, 2, 3, 10, 11, 12]\n",
            "[10 22 36]\n"
          ],
          "name": "stdout"
        }
      ]
    },
    {
      "cell_type": "code",
      "metadata": {
        "colab": {
          "base_uri": "https://localhost:8080/"
        },
        "id": "aQkSqs9F114p",
        "outputId": "0f9738d5-cc48-4c6e-f0d4-38267b95479e"
      },
      "source": [
        "array_0 = np.array([1,2,3,4])\n",
        "array_0_2d = np.array([[10,2,30],[4,5,6]])\n",
        "\n",
        "print(array_0.sum())\n",
        "print(array_0_2d.sum())\n",
        "print(array_0_2d.sum(axis=1))\n",
        "\n",
        "print(array_0.max())\n",
        "print(array_0_2d.max())\n",
        "print(array_0_2d.max(axis=0))\n",
        "\n",
        "print(array_0.min())\n",
        "print(array_0_2d.min())\n",
        "print(array_0_2d.min(axis=0))\n",
        "\n",
        "print(array_0.mean())\n",
        "print(array_0_2d.mean())\n",
        "print(array_0_2d.mean(axis=0))\n",
        "\n",
        "print(array_0.std())\n",
        "print(array_0_2d.std())\n",
        "print(array_0_2d.std(axis=0))\n",
        "\n",
        "print(array_0.var())\n",
        "print(array_0_2d.var())\n",
        "print(array_0_2d.var(axis=0))\n",
        "\n",
        "array_1_2d = np.array([[1,0], [0,1]])\n",
        "array_2_2d = np.array([[2,2], [2,2]])\n",
        "\n",
        "print(array_1_2d.dot(array_2_2d))#.dot(~~~~~))\n",
        "\n",
        "print(np.matmul(array_1_2d, array_2_2d))"
      ],
      "execution_count": 106,
      "outputs": [
        {
          "output_type": "stream",
          "text": [
            "10\n",
            "57\n",
            "[42 15]\n",
            "4\n",
            "30\n",
            "[10  5 30]\n",
            "1\n",
            "2\n",
            "[4 2 6]\n",
            "2.5\n",
            "9.5\n",
            "[ 7.   3.5 18. ]\n",
            "1.118033988749895\n",
            "9.482439911049617\n",
            "[ 3.   1.5 12. ]\n",
            "1.25\n",
            "89.91666666666667\n",
            "[  9.     2.25 144.  ]\n",
            "[[2 2]\n",
            " [2 2]]\n",
            "[[2 2]\n",
            " [2 2]]\n"
          ],
          "name": "stdout"
        }
      ]
    },
    {
      "cell_type": "code",
      "metadata": {
        "colab": {
          "base_uri": "https://localhost:8080/"
        },
        "id": "KlKvCMGT2p-a",
        "outputId": "0ad9a0d7-2ef9-4dc3-f507-47e1146b62ff"
      },
      "source": [
        "array_1_2d = np.array([[5,4], [0,1]])\n",
        "\n",
        "print(array_1_2d)\n",
        "print(array_1_2d * 10.7)\n",
        "\n",
        "test_sample_arr_0 = np.array([[1,2,3,4]])\n",
        "test_sample_arr_1 = np.array([[10,20,30,40],[1,2,3,4]])\n",
        "\n",
        "print(test_sample_arr_0.shape)\n",
        "print(test_sample_arr_1.shape)\n",
        "print(test_sample_arr_0 * test_sample_arr_1)\n",
        "# print(array_1_2d * 10.7)"
      ],
      "execution_count": 113,
      "outputs": [
        {
          "output_type": "stream",
          "text": [
            "[[5 4]\n",
            " [0 1]]\n",
            "[[53.5 42.8]\n",
            " [ 0.  10.7]]\n",
            "(1, 4)\n",
            "(2, 4)\n",
            "[[ 10  40  90 160]\n",
            " [  1   4   9  16]]\n"
          ],
          "name": "stdout"
        }
      ]
    },
    {
      "cell_type": "code",
      "metadata": {
        "colab": {
          "base_uri": "https://localhost:8080/"
        },
        "id": "b4HqZ3QH5zRL",
        "outputId": "b25b290e-5f1b-4f38-d897-99214ecac870"
      },
      "source": [
        "print(np.random.randint(5, 10, size=(2,5)))"
      ],
      "execution_count": 136,
      "outputs": [
        {
          "output_type": "stream",
          "text": [
            "[7 6 5 6 6 9 8 8 7 8]\n"
          ],
          "name": "stdout"
        }
      ]
    },
    {
      "cell_type": "code",
      "metadata": {
        "colab": {
          "base_uri": "https://localhost:8080/"
        },
        "id": "nRTAYWgoCnJb",
        "outputId": "17cf5307-af19-4c9b-9371-7aa48a0046a8"
      },
      "source": [
        "print(np.random.rand(2,5))"
      ],
      "execution_count": 141,
      "outputs": [
        {
          "output_type": "stream",
          "text": [
            "[[0.30599003 0.37530972 0.24221649 0.11060205 0.43501827]\n",
            " [0.55222925 0.91493244 0.45603548 0.22447258 0.02437755]]\n"
          ],
          "name": "stdout"
        }
      ]
    },
    {
      "cell_type": "code",
      "metadata": {
        "colab": {
          "base_uri": "https://localhost:8080/"
        },
        "id": "TO--Q4gWDXvP",
        "outputId": "e0e206a4-9b58-4028-b30b-38451c44478b"
      },
      "source": [
        "print(np.random.randn(2, 5))"
      ],
      "execution_count": 143,
      "outputs": [
        {
          "output_type": "stream",
          "text": [
            "[[-0.04346496 -1.84685662  1.4340525   0.70358146  0.24664844]\n",
            " [-0.63663505 -0.27965133  0.29765944  1.25180706 -0.84715659]]\n"
          ],
          "name": "stdout"
        }
      ]
    },
    {
      "cell_type": "code",
      "metadata": {
        "colab": {
          "base_uri": "https://localhost:8080/"
        },
        "id": "EI_dv71sECD8",
        "outputId": "f3ec2eb2-aae0-4300-c225-f5c7db075d2d"
      },
      "source": [
        "test_a = np.arange(10)\n",
        "print(test_a)\n",
        "print(np.random.shuffle(test_a))\n",
        "print(test_a)\n",
        "\n",
        "test_a = np.arange(9).reshape(3, 3)\n",
        "print(test_a)\n",
        "print(np.random.shuffle(test_a))\n",
        "print(test_a)"
      ],
      "execution_count": 145,
      "outputs": [
        {
          "output_type": "stream",
          "text": [
            "[0 1 2 3 4 5 6 7 8 9]\n",
            "None\n",
            "[3 9 2 6 1 4 8 7 5 0]\n",
            "[[0 1 2]\n",
            " [3 4 5]\n",
            " [6 7 8]]\n",
            "None\n",
            "[[6 7 8]\n",
            " [0 1 2]\n",
            " [3 4 5]]\n"
          ],
          "name": "stdout"
        }
      ]
    },
    {
      "cell_type": "code",
      "metadata": {
        "colab": {
          "base_uri": "https://localhost:8080/"
        },
        "id": "Pl5Z8NqSEXdi",
        "outputId": "563f4308-5083-43e1-f54c-92825632ef5e"
      },
      "source": [
        "simulated_result = np.random.choice([\"red\", \"yellow\", \"blue\"], 10000, p=[0.3, 0.2, 0.5])\n",
        "\n",
        "r_array = (simulated_result == \"red\")\n",
        "y_array = (simulated_result == \"yellow\")\n",
        "b_array = (simulated_result == \"blue\")\n",
        "\n",
        "print(f\"red: {r_array.sum()}\")\n",
        "print(f\"yellow: {y_array.sum()}\")\n",
        "print(f\"blue: {b_array.sum()}\")"
      ],
      "execution_count": 157,
      "outputs": [
        {
          "output_type": "stream",
          "text": [
            "red: 2935\n",
            "yellow: 1985\n",
            "blue: 5080\n"
          ],
          "name": "stdout"
        }
      ]
    },
    {
      "cell_type": "code",
      "metadata": {
        "colab": {
          "base_uri": "https://localhost:8080/"
        },
        "id": "jXQqIFTOFIJh",
        "outputId": "e949b83a-8b45-4c69-97a7-10b748b5a204"
      },
      "source": [
        "duplicated_array = np.random.randint(10, 15, 10)\n",
        "print(duplicated_array)\n",
        "\n",
        "print(np.unique(duplicated_array, return_counts=True, return_inverse=True))"
      ],
      "execution_count": 171,
      "outputs": [
        {
          "output_type": "stream",
          "text": [
            "[10 13 14 14 12 13 13 12 14 14]\n",
            "(array([10, 12, 13, 14]), array([0, 2, 3, 3, 1, 2, 2, 1, 3, 3]), array([1, 2, 3, 4]))\n"
          ],
          "name": "stdout"
        }
      ]
    },
    {
      "cell_type": "code",
      "metadata": {
        "id": "L3Swm9-EHVg3"
      },
      "source": [
        ""
      ],
      "execution_count": null,
      "outputs": []
    }
  ]
}