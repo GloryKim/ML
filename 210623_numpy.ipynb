{
  "nbformat": 4,
  "nbformat_minor": 0,
  "metadata": {
    "colab": {
      "name": "실습3.ipynb",
      "provenance": [],
      "collapsed_sections": []
    },
    "kernelspec": {
      "name": "python3",
      "display_name": "Python 3"
    },
    "language_info": {
      "name": "python"
    }
  },
  "cells": [
    {
      "cell_type": "code",
      "metadata": {
        "id": "n_L8dVzqmFl9"
      },
      "source": [
        "import numpy as np"
      ],
      "execution_count": 1,
      "outputs": []
    },
    {
      "cell_type": "code",
      "metadata": {
        "colab": {
          "base_uri": "https://localhost:8080/"
        },
        "id": "lus594i2iLuw",
        "outputId": "c96c291a-4204-4b13-a76e-0232a360a1d6"
      },
      "source": [
        "nd_array_0 = np.array([[1,2],[3,4],[5,6]])\n",
        "transposed_array = np.array([[1,3,5],[2,4,6]])\n",
        "print(nd_array_0)\n",
        "print(transposed_array)\n",
        "print(np.transpose(nd_array_0))\n",
        "print(np.transpose(nd_array_0, axes=[1, 0]))\n",
        "print(np.transpose(nd_array_0, axes=[0, 1]))\n",
        "\n",
        "print(nd_array_0.T)"
      ],
      "execution_count": 14,
      "outputs": [
        {
          "output_type": "stream",
          "text": [
            "[[1 2]\n",
            " [3 4]\n",
            " [5 6]]\n",
            "[[1 3 5]\n",
            " [2 4 6]]\n",
            "[[1 3 5]\n",
            " [2 4 6]]\n",
            "[[1 3 5]\n",
            " [2 4 6]]\n",
            "[[1 2]\n",
            " [3 4]\n",
            " [5 6]]\n",
            "[[1 3 5]\n",
            " [2 4 6]]\n"
          ],
          "name": "stdout"
        }
      ]
    },
    {
      "cell_type": "code",
      "metadata": {
        "colab": {
          "base_uri": "https://localhost:8080/"
        },
        "id": "xMVmXhOGmPVD",
        "outputId": "abeaf373-ce5a-4445-f463-a946cf103cf0"
      },
      "source": [
        "np_array_d1 = np.arange(1, 9)\n",
        "# print(np_array_d1)\n",
        "# print(np.flip(np_array_d1))\n",
        "\n",
        "np_array_d2 = np.arange(1, 13).reshape(3,4)\n",
        "print(np_array_d2)\n",
        "\n",
        "print(np.flip(np_array_d2, axis=0))\n",
        "print(np.flip(np_array_d2, axis=1))\n",
        "\n",
        "# print(np.flip(np.flip(np_array_d2, axis=0), axis=1))\n",
        "print(np.flip(np_array_d2))"
      ],
      "execution_count": 26,
      "outputs": [
        {
          "output_type": "stream",
          "text": [
            "[[ 1  2  3  4]\n",
            " [ 5  6  7  8]\n",
            " [ 9 10 11 12]]\n",
            "[[ 9 10 11 12]\n",
            " [ 5  6  7  8]\n",
            " [ 1  2  3  4]]\n",
            "[[ 4  3  2  1]\n",
            " [ 8  7  6  5]\n",
            " [12 11 10  9]]\n",
            "[[12 11 10  9]\n",
            " [ 8  7  6  5]\n",
            " [ 4  3  2  1]]\n"
          ],
          "name": "stdout"
        }
      ]
    },
    {
      "cell_type": "code",
      "metadata": {
        "colab": {
          "base_uri": "https://localhost:8080/"
        },
        "id": "qCDJiYrLoYl_",
        "outputId": "56d5eb15-c6bf-41e9-8f3c-d88bc5a35806"
      },
      "source": [
        "print(np_array_d2)\n",
        "print(np_array_d2.flatten())\n",
        "print(np_array_d2.flatten(order=\"F\"))\n",
        "raveled_arr = np.ravel(np_array_d2, order=\"F\")\n",
        "\n",
        "print(raveled_arr)\n",
        "print(np_array_d2)"
      ],
      "execution_count": 36,
      "outputs": [
        {
          "output_type": "stream",
          "text": [
            "[[ 1  2  3  4]\n",
            " [ 5  6  7  8]\n",
            " [ 9 10 11 12]]\n",
            "[ 1  2  3  4  5  6  7  8  9 10 11 12]\n",
            "[ 1  5  9  2  6 10  3  7 11  4  8 12]\n",
            "[ 1  2  3  4  5  6  7  8  9 10 11 12]\n",
            "[100   5   9   2   6  10   3   7  11   4   8  12]\n",
            "[[ 1  2  3  4]\n",
            " [ 5  6  7  8]\n",
            " [ 9 10 11 12]]\n"
          ],
          "name": "stdout"
        }
      ]
    },
    {
      "cell_type": "code",
      "metadata": {
        "id": "kcZpybgVp0HG"
      },
      "source": [
        "# print(np_array_d2)\n",
        "# np.save(\"np_array_d2\", np_array_d2)\n",
        "# np.savez(\"np_arrays\", np_array_d2, np_array_d1)\n",
        "# np.savetxt(\"np_array_to_file.txt\", np_array_d2)"
      ],
      "execution_count": 46,
      "outputs": []
    },
    {
      "cell_type": "code",
      "metadata": {
        "colab": {
          "base_uri": "https://localhost:8080/"
        },
        "id": "QYXJPwuXxYMC",
        "outputId": "f21ed222-dbb7-45f1-98a0-78d5b72672b7"
      },
      "source": [
        "load_np_array = np.load(\"np_arrays.npz\")['arr_1']\n",
        "print(load_np_array)\n",
        "\n",
        "txt_arr = np.loadtxt(\"np_array_to_file.txt\")\n",
        "print(txt_arr)"
      ],
      "execution_count": 53,
      "outputs": [
        {
          "output_type": "stream",
          "text": [
            "[1 2 3 4 5 6 7 8]\n",
            "[[ 1.  2.  3.  4.]\n",
            " [ 5.  6.  7.  8.]\n",
            " [ 9. 10. 11. 12.]]\n"
          ],
          "name": "stdout"
        }
      ]
    }
  ]
}