{
 "cells": [
  {
   "cell_type": "code",
   "execution_count": 1,
   "metadata": {},
   "outputs": [],
   "source": [
    "a = 10 # int \n",
    "b = 11.4 # float "
   ]
  },
  {
   "cell_type": "code",
   "execution_count": 2,
   "metadata": {},
   "outputs": [
    {
     "name": "stdout",
     "output_type": "stream",
     "text": [
      "10 11.4\n",
      "10 10 200 11.4\n"
     ]
    }
   ],
   "source": [
    "print(a, b)\n",
    "print(a, 10, 200, b)"
   ]
  },
  {
   "cell_type": "markdown",
   "metadata": {},
   "source": [
    "* **print함수 설정**\n",
    " - sep : 구분자, 각 출력할 변수 사이에서 구별하는 역할을 함\n",
    " - end : 마지막에 출력할 문자열"
   ]
  },
  {
   "cell_type": "code",
   "execution_count": 3,
   "metadata": {},
   "outputs": [
    {
     "name": "stdout",
     "output_type": "stream",
     "text": [
      "10*11.4*10*100!!"
     ]
    }
   ],
   "source": [
    "print(a, b, 10, 100, sep='*', end='!!')"
   ]
  },
  {
   "cell_type": "markdown",
   "metadata": {},
   "source": [
    "#### **변수 값 확인법**\n",
    " - print() 함수 사용\n",
    " - 변수 값을 코드의 마지막에 위치 시킨 후 실행\n",
    "   - 이 경우 output으로 변수의 값이 출력"
   ]
  },
  {
   "cell_type": "code",
   "execution_count": 4,
   "metadata": {},
   "outputs": [
    {
     "data": {
      "text/plain": [
       "11.4"
      ]
     },
     "execution_count": 4,
     "metadata": {},
     "output_type": "execute_result"
    }
   ],
   "source": [
    "a = 10\n",
    "b = 11.4\n",
    "a\n",
    "b"
   ]
  },
  {
   "cell_type": "markdown",
   "metadata": {},
   "source": [
    "#### **variable naming (변수 이름 규칙)**\n",
    "  - 숫자로 시작하는 이름을 제외하고 영문 대소문자, _, 숫자로 구성가능 \n",
    "  - 아래의 예제는 모두 valid한 변수 이름\n",
    "  - 일반적으로 해당 변수를 표현하고자 하는 정확하고 간결한 이름을 사용하는 것이 원칙\n",
    "    - 코드를 읽은 것을 더 쉽게 할 수 있음\n",
    "    - e.g) a = 1000의 경우보다 **student_num = 1000**로 명시한 것이 변수에 대한 이해가 빠름"
   ]
  },
  {
   "cell_type": "code",
   "execution_count": 5,
   "metadata": {},
   "outputs": [],
   "source": [
    "abcABC = 50\n",
    "_abc124 = 100\n",
    "ABC124 = 300\n",
    "a456BC = 40\n",
    "\n",
    "a = 200\n",
    "number_of_students = 200"
   ]
  },
  {
   "cell_type": "markdown",
   "metadata": {},
   "source": [
    "#### **reserved keywords (예약어)**\n",
    "  - python에서 미리 선점하여 사용중인 키워드\n",
    "  - 변수, 함수, 클래스 등등의 사용자 정의 이름으로 사용할 수 없음"
   ]
  },
  {
   "cell_type": "code",
   "execution_count": 6,
   "metadata": {},
   "outputs": [
    {
     "ename": "SyntaxError",
     "evalue": "invalid syntax (<ipython-input-6-ce2fd3744be8>, line 1)",
     "output_type": "error",
     "traceback": [
      "\u001b[1;36m  File \u001b[1;32m\"<ipython-input-6-ce2fd3744be8>\"\u001b[1;36m, line \u001b[1;32m1\u001b[0m\n\u001b[1;33m    for\u001b[0m\n\u001b[1;37m       ^\u001b[0m\n\u001b[1;31mSyntaxError\u001b[0m\u001b[1;31m:\u001b[0m invalid syntax\n"
     ]
    }
   ],
   "source": [
    "for\n",
    "while \n",
    "if\n",
    "elif \n",
    "else \n",
    "class\n",
    "try\n",
    "except\n",
    "class\n",
    "# ...\n",
    "\n",
    "_class = 100\n",
    "print(_class)"
   ]
  },
  {
   "cell_type": "markdown",
   "metadata": {},
   "source": [
    "### 기본 데이터 타입 \n",
    "  - 정수 (int)\n",
    "  - 실수 (float)\n",
    "  - 문자열 (str)\n",
    "  - 불리언 (boolean)"
   ]
  },
  {
   "cell_type": "markdown",
   "metadata": {},
   "source": [
    "#### type 함수\n",
    " - 해당 변수, 값의 타입(type)을 알고자 할 때 사용"
   ]
  },
  {
   "cell_type": "code",
   "execution_count": 7,
   "metadata": {},
   "outputs": [
    {
     "data": {
      "text/plain": [
       "float"
      ]
     },
     "execution_count": 7,
     "metadata": {},
     "output_type": "execute_result"
    }
   ],
   "source": [
    "a = 10\n",
    "b = 11.45\n",
    "\n",
    "type(b)"
   ]
  },
  {
   "cell_type": "markdown",
   "metadata": {},
   "source": [
    "#### **None**\n",
    " - 아무런 값을 갖지 않을 때 사용\n",
    " - 일반적으로 변수가 초기값을 갖지 않게 하여 해당 변수를 생성할 때 사용\n",
    " - 기타 언어의 NULL, nil등과 같은 의미로 사용"
   ]
  },
  {
   "cell_type": "code",
   "execution_count": 8,
   "metadata": {},
   "outputs": [
    {
     "name": "stdout",
     "output_type": "stream",
     "text": [
      "None\n"
     ]
    }
   ],
   "source": [
    "c = None\n",
    "print(c)"
   ]
  },
  {
   "cell_type": "markdown",
   "metadata": {},
   "source": [
    "#### **comparison operator(비교 연산자)** \n",
    "  - 프로그래밍에서는 비교를 할 경우, = 대신 **==**를 사용\n",
    "  - <, > (작다, 크다)\n",
    "  - <=, >= (작거나 같다, 크거나 같다)\n",
    "  - == 같다\n",
    "  - != 같지 않다\n",
    "  - 비교 연산자의 결과는 bool 타입"
   ]
  },
  {
   "cell_type": "code",
   "execution_count": 9,
   "metadata": {},
   "outputs": [
    {
     "name": "stdout",
     "output_type": "stream",
     "text": [
      "True\n",
      "False\n",
      "True\n",
      "False\n",
      "False\n",
      "True\n",
      "<class 'bool'>\n",
      "True\n"
     ]
    }
   ],
   "source": [
    "a = 5\n",
    "b = 4\n",
    "\n",
    "print(a > b) # True\n",
    "print(a < b) # False\n",
    "print(a >= b) # True\n",
    "print(a <= b) # False\n",
    "print(a == b) # False\n",
    "print(a != b) # True\n",
    "\n",
    "c = a > b\n",
    "c = True\n",
    "print(type(c))\n",
    "print(c)"
   ]
  },
  {
   "cell_type": "markdown",
   "metadata": {},
   "source": [
    "#### **numbers (숫자형 타입)**\n",
    " - 정수, 실수로 구성\n",
    " - 수학의 기본 연산자(가감승제) 사용 가능"
   ]
  },
  {
   "cell_type": "code",
   "execution_count": 10,
   "metadata": {},
   "outputs": [
    {
     "name": "stdout",
     "output_type": "stream",
     "text": [
      "9\n",
      "20\n",
      "1\n",
      "1.25\n",
      "1\n",
      "625\n"
     ]
    }
   ],
   "source": [
    "a = 5\n",
    "b = 4\n",
    "\n",
    "print(a + b)\n",
    "print(a * b)\n",
    "print(a - b)\n",
    "print(a / b)\n",
    "print(a % b)\n",
    "print(a ** b)\n"
   ]
  },
  {
   "cell_type": "code",
   "execution_count": 11,
   "metadata": {},
   "outputs": [
    {
     "name": "stdout",
     "output_type": "stream",
     "text": [
      "21\n",
      "36\n"
     ]
    }
   ],
   "source": [
    "a = 5\n",
    "b = 4\n",
    "\n",
    "print(a + b * 4)\n",
    "print((a + b) * 4)"
   ]
  },
  {
   "cell_type": "code",
   "execution_count": 12,
   "metadata": {},
   "outputs": [
    {
     "name": "stdout",
     "output_type": "stream",
     "text": [
      "9\n",
      "6\n",
      "9\n"
     ]
    }
   ],
   "source": [
    "a = 9\n",
    "print(a) # 9\n",
    "print(a - 3) # 6\n",
    "print(a) #9, 6"
   ]
  },
  {
   "cell_type": "code",
   "execution_count": 13,
   "metadata": {},
   "outputs": [
    {
     "name": "stdout",
     "output_type": "stream",
     "text": [
      "9\n"
     ]
    }
   ],
   "source": [
    "a = 9\n",
    "a-3\n",
    "print(a)"
   ]
  },
  {
   "cell_type": "code",
   "execution_count": 14,
   "metadata": {},
   "outputs": [
    {
     "name": "stdout",
     "output_type": "stream",
     "text": [
      "6\n"
     ]
    }
   ],
   "source": [
    "a = 9\n",
    "t = a - 3\n",
    "a = t\n",
    "\n",
    "print(a)"
   ]
  },
  {
   "cell_type": "code",
   "execution_count": 15,
   "metadata": {},
   "outputs": [
    {
     "name": "stdout",
     "output_type": "stream",
     "text": [
      "6\n"
     ]
    }
   ],
   "source": [
    "a = 9\n",
    "a = a - 3\n",
    "print(a)"
   ]
  },
  {
   "cell_type": "code",
   "execution_count": 16,
   "metadata": {},
   "outputs": [
    {
     "name": "stdout",
     "output_type": "stream",
     "text": [
      "729\n"
     ]
    }
   ],
   "source": [
    "a = 9\n",
    "# a = a - 3\n",
    "a **= 3\n",
    "print(a)"
   ]
  }
 ],
 "metadata": {
  "kernelspec": {
   "display_name": "Python 3",
   "language": "python",
   "name": "python3"
  },
  "language_info": {
   "codemirror_mode": {
    "name": "ipython",
    "version": 3
   },
   "file_extension": ".py",
   "mimetype": "text/x-python",
   "name": "python",
   "nbconvert_exporter": "python",
   "pygments_lexer": "ipython3",
   "version": "3.8.8"
  }
 },
 "nbformat": 4,
 "nbformat_minor": 1
}
